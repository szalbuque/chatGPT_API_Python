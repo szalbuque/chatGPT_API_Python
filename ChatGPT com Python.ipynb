{
 "cells": [
  {
   "cell_type": "markdown",
   "id": "a4ce22c9",
   "metadata": {},
   "source": [
    "Passos para usar a API do ChatGPT com Python"
   ]
  },
  {
   "cell_type": "markdown",
   "id": "700df8ad",
   "metadata": {},
   "source": [
    "1. Instalar o pacote OpenAI"
   ]
  },
  {
   "cell_type": "code",
   "execution_count": null,
   "id": "eb879840",
   "metadata": {},
   "outputs": [],
   "source": [
    "pip install openai"
   ]
  },
  {
   "cell_type": "code",
   "execution_count": null,
   "id": "073f8da7",
   "metadata": {},
   "outputs": [],
   "source": [
    "pip install requests\n"
   ]
  },
  {
   "cell_type": "markdown",
   "id": "63a8381b",
   "metadata": {},
   "source": [
    "Obter uma chave de API no link: https://beta.openai.com/signup\n",
    "Criar um arquivo senha.py e guardar a chave de API neste arquivo. Este arquivo deve ficar na mesma pasta do jupyter notebook que estamos editando.\n",
    "Na linha abaixo, faremos a importação da chave da API."
   ]
  },
  {
   "cell_type": "code",
   "execution_count": null,
   "id": "30f2f5a5",
   "metadata": {},
   "outputs": [],
   "source": [
    "from senha import API_KEY"
   ]
  },
  {
   "cell_type": "code",
   "execution_count": null,
   "id": "959a11d2",
   "metadata": {},
   "outputs": [],
   "source": [
    "import requests\n",
    "import json"
   ]
  },
  {
   "cell_type": "markdown",
   "id": "74db6e50",
   "metadata": {},
   "source": [
    "A seguir, vamos criar uma requisição para fazer a autenticação no site da OpenAI."
   ]
  },
  {
   "cell_type": "code",
   "execution_count": null,
   "id": "37494f06",
   "metadata": {
    "scrolled": false
   },
   "outputs": [],
   "source": [
    "headers = {'Authorization': f'Bearer {API_KEY}'}\n",
    "\n",
    "link = 'https://api.openai.com/v1/models'\n",
    "\n",
    "requisicao = requests.get(link, headers=headers)\n",
    "\n",
    "print(requisicao.text)"
   ]
  },
  {
   "cell_type": "markdown",
   "id": "d87afef2",
   "metadata": {},
   "source": [
    "Procurar o ID do modelo do ChatGPT no resultado impresso acima. No meu caso é \"id\": \"gpt-3.5-turbo-0301\"."
   ]
  },
  {
   "cell_type": "code",
   "execution_count": 15,
   "id": "09053012",
   "metadata": {},
   "outputs": [
    {
     "name": "stdout",
     "output_type": "stream",
     "text": [
      "<Response [200]>\n",
      "{\"id\":\"chatcmpl-7HDp7d28Su7qzEFTfKnzMasjN4dMg\",\"object\":\"chat.completion\",\"created\":1684339069,\"model\":\"gpt-3.5-turbo-0301\",\"usage\":{\"prompt_tokens\":18,\"completion_tokens\":284,\"total_tokens\":302},\"choices\":[{\"message\":{\"role\":\"assistant\",\"content\":\"A API do ChatGPT é uma interface de programação de aplicativos que permite que outros aplicativos ou serviços se comuniquem com o ChatGPT, um modelo de linguagem natural que pode gerar respostas a perguntas ou conversar com usuários. \\n\\nAo utilizar a API do ChatGPT, um desenvolvedor pode enviar uma solicitação para o modelo do ChatGPT com uma mensagem do usuário, e o modelo retornará uma resposta adequada com base em seu treinamento e experiência prévia.\\n\\nA API utiliza a abordagem de RESTful, sendo acessada através de URLs com métodos HTTP específicos. Ao enviar uma solicitação, o desenvolvedor pode especificar parâmetros como o comprimento máximo da resposta, o nível de criatividade ou a personalidade do modelo utilizado.\\n\\nA API do ChatGPT oferece recursos avançados, como a capacidade de personalizar a conversa, treinar o modelo com novos dados e integrar outros serviços de análise ou aprendizado de máquina para melhorar a qualidade das respostas.\\n\\nEm resumo, a API do ChatGPT é uma maneira poderosa de incorporar a capacidade de conversação do modelo em outros aplicativos e serviços, permitindo a criação de chatbots inteligentes e outras soluções de IA.\"},\"finish_reason\":\"stop\",\"index\":0}]}\n",
      "\n",
      "A API do ChatGPT é uma interface de programação de aplicativos que permite que outros aplicativos ou serviços se comuniquem com o ChatGPT, um modelo de linguagem natural que pode gerar respostas a perguntas ou conversar com usuários. \n",
      "\n",
      "Ao utilizar a API do ChatGPT, um desenvolvedor pode enviar uma solicitação para o modelo do ChatGPT com uma mensagem do usuário, e o modelo retornará uma resposta adequada com base em seu treinamento e experiência prévia.\n",
      "\n",
      "A API utiliza a abordagem de RESTful, sendo acessada através de URLs com métodos HTTP específicos. Ao enviar uma solicitação, o desenvolvedor pode especificar parâmetros como o comprimento máximo da resposta, o nível de criatividade ou a personalidade do modelo utilizado.\n",
      "\n",
      "A API do ChatGPT oferece recursos avançados, como a capacidade de personalizar a conversa, treinar o modelo com novos dados e integrar outros serviços de análise ou aprendizado de máquina para melhorar a qualidade das respostas.\n",
      "\n",
      "Em resumo, a API do ChatGPT é uma maneira poderosa de incorporar a capacidade de conversação do modelo em outros aplicativos e serviços, permitindo a criação de chatbots inteligentes e outras soluções de IA.\n"
     ]
    }
   ],
   "source": [
    "headers = {'Authorization': f'Bearer {API_KEY}', 'content-type':'Application/json'}\n",
    "link = \"https://api.openai.com/v1/chat/completions\"\n",
    "id_modelo = \"gpt-3.5-turbo-0301\"\n",
    "body_message = {\n",
    "    'model': id_modelo,\n",
    "    'messages': [{'role':'user',\n",
    "                 'content':'explique como funciona a API do ChatGPT'}]\n",
    "}\n",
    "body_message = json.dumps(body_message)\n",
    "requisicao = requests.post(link, headers=headers, data=body_message)\n",
    "print(requisicao)\n",
    "print(requisicao.text)\n",
    "resposta_completa = requisicao.json()\n",
    "resposta_refinada = resposta_completa['choices'][0]['message']['content']\n",
    "print(resposta_refinada)"
   ]
  }
 ],
 "metadata": {
  "kernelspec": {
   "display_name": "Python 3 (ipykernel)",
   "language": "python",
   "name": "python3"
  },
  "language_info": {
   "codemirror_mode": {
    "name": "ipython",
    "version": 3
   },
   "file_extension": ".py",
   "mimetype": "text/x-python",
   "name": "python",
   "nbconvert_exporter": "python",
   "pygments_lexer": "ipython3",
   "version": "3.9.13"
  }
 },
 "nbformat": 4,
 "nbformat_minor": 5
}
